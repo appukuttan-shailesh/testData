{
 "cells": [
  {
   "cell_type": "code",
   "execution_count": null,
   "id": "924d04e9",
   "metadata": {},
   "outputs": [],
   "source": [
    "import json\n",
    "import pprint\n",
    "from hbp_validation_framework import ModelCatalog"
   ]
  },
  {
   "cell_type": "code",
   "execution_count": null,
   "id": "ab17545d",
   "metadata": {},
   "outputs": [],
   "source": [
    "USERNAME = \"shailesh\""
   ]
  },
  {
   "cell_type": "code",
   "execution_count": null,
   "id": "10bc41f4",
   "metadata": {},
   "outputs": [],
   "source": [
    "mc = ModelCatalog(USERNAME)"
   ]
  },
  {
   "cell_type": "code",
   "execution_count": null,
   "id": "9a9fe5b8",
   "metadata": {},
   "outputs": [],
   "source": [
    "models = mc.list_models()"
   ]
  },
  {
   "cell_type": "code",
   "execution_count": null,
   "id": "b163b9a5",
   "metadata": {},
   "outputs": [],
   "source": [
    "len(models)"
   ]
  },
  {
   "cell_type": "code",
   "execution_count": null,
   "id": "9499de18",
   "metadata": {},
   "outputs": [],
   "source": [
    "filters = mc.get_attribute_options()"
   ]
  },
  {
   "cell_type": "code",
   "execution_count": null,
   "id": "85727b38",
   "metadata": {},
   "outputs": [],
   "source": [
    "filters.keys()"
   ]
  },
  {
   "cell_type": "code",
   "execution_count": null,
   "id": "21de3df0",
   "metadata": {},
   "outputs": [],
   "source": [
    "selected_filters = [\"species\", \"brain_region\", \"cell_type\", \"model_scope\", \"abstraction_level\"]"
   ]
  },
  {
   "cell_type": "code",
   "execution_count": null,
   "id": "edb1d1de",
   "metadata": {},
   "outputs": [],
   "source": [
    "dist = {}"
   ]
  },
  {
   "cell_type": "code",
   "execution_count": null,
   "id": "9ce25fd9",
   "metadata": {},
   "outputs": [],
   "source": [
    "for filter in selected_filters:\n",
    "    dist[filter] = []\n",
    "    for model in models:\n",
    "        dist[filter].append(model[filter])"
   ]
  },
  {
   "cell_type": "code",
   "execution_count": null,
   "id": "5348b482",
   "metadata": {},
   "outputs": [],
   "source": [
    "# Python program to count the frequency of\n",
    "# elements in a list using a dictionary\n",
    "        \n",
    "def SortCountFrequencyJSON(my_list):\n",
    "    # Creating an empty dictionary\n",
    "    freq = {}\n",
    "    for item in my_list:\n",
    "        if (item in freq):\n",
    "            freq[item] += 1\n",
    "        else:\n",
    "            freq[item] = 1\n",
    "            \n",
    "    sorted_freq = dict(sorted(freq.items(), key=lambda item: item[1], reverse=True))\n",
    "    return sorted_freq"
   ]
  },
  {
   "cell_type": "code",
   "execution_count": null,
   "id": "1ca7a1a1",
   "metadata": {},
   "outputs": [],
   "source": [
    "dist_dict = {}\n",
    "for filter in selected_filters:\n",
    "    dist_dict[filter] = SortCountFrequencyJSON(dist[filter])"
   ]
  },
  {
   "cell_type": "code",
   "execution_count": null,
   "id": "fa7f0c4d",
   "metadata": {},
   "outputs": [],
   "source": [
    "pprint.pprint(dist_dict)"
   ]
  },
  {
   "cell_type": "code",
   "execution_count": null,
   "id": "73a6cc7d",
   "metadata": {},
   "outputs": [],
   "source": [
    "for filter in selected_filters:\n",
    "    dist_dict[filter] = SortCountFrequencyJSON(dist[filter])\n",
    "   \n",
    "with open('models_stats.json','w') as dataFile:    \n",
    "    json.dump(dist_dict, dataFile, indent=4);"
   ]
  },
  {
   "cell_type": "code",
   "execution_count": null,
   "id": "aaede619",
   "metadata": {},
   "outputs": [],
   "source": [
    "from hbp_archive import Container\n",
    "c = Container(\"VF_paper_demo\", \"bp000106\")\n",
    "c.upload(\"models_stats.json\", \"vf_stats\", overwrite=True)"
   ]
  }
 ],
 "metadata": {
  "kernelspec": {
   "display_name": "py3env",
   "language": "python",
   "name": "py3env"
  },
  "language_info": {
   "codemirror_mode": {
    "name": "ipython",
    "version": 3
   },
   "file_extension": ".py",
   "mimetype": "text/x-python",
   "name": "python",
   "nbconvert_exporter": "python",
   "pygments_lexer": "ipython3",
   "version": "3.6.9"
  }
 },
 "nbformat": 4,
 "nbformat_minor": 5
}
